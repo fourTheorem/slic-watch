{
 "cells": [
  {
   "cell_type": "markdown",
   "metadata": {},
   "source": [
    "# Trigger Kinesis Throughput Alarms\n",
    "\n",
    "This notebook writes and reads to the test project's Kinesis Data Stream to create:\n",
    " - Write and read throughput errors\n",
    " - GetRecord/PutRecord(s) errors\n",
    " \n",
    "for testing SLIC Watch alarms and dashboards."
   ]
  },
  {
   "cell_type": "code",
   "execution_count": null,
   "metadata": {},
   "outputs": [],
   "source": [
    "import os\n",
    "import boto3\n",
    "from tqdm.notebook import tqdm\n",
    "from concurrent.futures import ThreadPoolExecutor, as_completed"
   ]
  },
  {
   "cell_type": "code",
   "execution_count": null,
   "metadata": {},
   "outputs": [],
   "source": [
    "kinesis = boto3.client('kinesis')\n",
    "stream_name = 'awesome-savage-stream'"
   ]
  },
  {
   "cell_type": "markdown",
   "metadata": {},
   "source": [
    "## Trigger a PutRecord failure to trigger the PutRecord.Success Alarm\n",
    "This triggers a failure by sending data that is too large and fails validation"
   ]
  },
  {
   "cell_type": "code",
   "execution_count": null,
   "metadata": {},
   "outputs": [],
   "source": [
    "kinesis.put_record(StreamName=stream_name, Data=os.urandom(1024**2 + 1), PartitionKey='a')"
   ]
  },
  {
   "cell_type": "markdown",
   "metadata": {},
   "source": [
    "## Trigger a Write Throughput Limit Exceeded for a single shard"
   ]
  },
  {
   "cell_type": "code",
   "execution_count": null,
   "metadata": {},
   "outputs": [],
   "source": [
    "for _ in tqdm(range(0, 10)):\n",
    "    kinesis.put_records(Records=[\n",
    "        {\n",
    "            'Data': data,\n",
    "            'PartitionKey': 'a'\n",
    "        }\n",
    "        for _ in range(0, 2)\n",
    "    ],\n",
    "    StreamName=stream_name)"
   ]
  },
  {
   "cell_type": "markdown",
   "metadata": {},
   "source": [
    "## Trigger a Read Throughput Limit Exceeded for a single shard"
   ]
  },
  {
   "cell_type": "code",
   "execution_count": null,
   "metadata": {},
   "outputs": [],
   "source": [
    "shard_id = kinesis.list_shards(StreamName=stream_name)['Shards'][0]['ShardId']"
   ]
  },
  {
   "cell_type": "code",
   "execution_count": null,
   "metadata": {},
   "outputs": [],
   "source": [
    "def fetch_records():\n",
    "    itr = kinesis.get_shard_iterator(StreamName=stream_name, ShardId=shard_id, ShardIteratorType='TRIM_HORIZON')['ShardIterator']\n",
    "    for _ in range(0, 50):\n",
    "        resp = kinesis.get_records(ShardIterator=itr)\n",
    "        itr = resp['NextShardIterator']"
   ]
  },
  {
   "cell_type": "code",
   "execution_count": null,
   "metadata": {},
   "outputs": [],
   "source": [
    "with ThreadPoolExecutor(max_workers=10) as ex:\n",
    "    futures = [\n",
    "        ex.submit(fetch_records) for _ in range(0, 10)\n",
    "    ]\n",
    "    for res in as_completed(futures):\n",
    "        res.result()"
   ]
  },
  {
   "cell_type": "code",
   "execution_count": null,
   "metadata": {},
   "outputs": [],
   "source": []
  }
 ],
 "metadata": {
  "kernelspec": {
   "display_name": "Python 3",
   "language": "python",
   "name": "python3"
  },
  "language_info": {
   "codemirror_mode": {
    "name": "ipython",
    "version": 3
   },
   "file_extension": ".py",
   "mimetype": "text/x-python",
   "name": "python",
   "nbconvert_exporter": "python",
   "pygments_lexer": "ipython3",
   "version": "3.8.3"
  }
 },
 "nbformat": 4,
 "nbformat_minor": 4
}
