{
 "cells": [
  {
   "cell_type": "code",
   "execution_count": null,
   "metadata": {},
   "outputs": [],
   "source": [
    "import boto3\n",
    "import os, random, string\n",
    "from tqdm.notebook import tqdm"
   ]
  },
  {
   "cell_type": "code",
   "execution_count": null,
   "metadata": {},
   "outputs": [],
   "source": [
    "def random_id():\n",
    "    return ''.join(random.choice(string.ascii_uppercase + string.digits) for _ in range(10))"
   ]
  },
  {
   "cell_type": "code",
   "execution_count": null,
   "metadata": {},
   "outputs": [],
   "source": [
    "sqs = boto3.client('sqs')"
   ]
  },
  {
   "cell_type": "code",
   "execution_count": null,
   "metadata": {},
   "outputs": [],
   "source": [
    "queue_url = sqs.get_queue_url(QueueName='SomeRegularQueue')['QueueUrl']\n",
    "fifo_queue_url = sqs.get_queue_url(QueueName='SomeFifoQueue.fifo')['QueueUrl']"
   ]
  },
  {
   "cell_type": "markdown",
   "metadata": {},
   "source": [
    "## Create 5000 messages on each queue"
   ]
  },
  {
   "cell_type": "code",
   "execution_count": null,
   "metadata": {},
   "outputs": [],
   "source": [
    "for i in tqdm(range(0, 500)):\n",
    "    sqs.send_message_batch(QueueUrl=queue_url, Entries=[\n",
    "        {\n",
    "            'Id': f'Regular{i}_{j}',\n",
    "            'MessageBody': f'Hi regular queue {i}/{j}'\n",
    "        } for j in range(0, 10)\n",
    "    ])"
   ]
  },
  {
   "cell_type": "code",
   "execution_count": null,
   "metadata": {},
   "outputs": [],
   "source": [
    "# Send messages to the FIFO queue with random groups so we can have more than one in flight at a time"
   ]
  },
  {
   "cell_type": "code",
   "execution_count": null,
   "metadata": {},
   "outputs": [],
   "source": [
    "for i in tqdm(range(0, 500)):\n",
    "    sqs.send_message_batch(QueueUrl=fifo_queue_url, Entries=[\n",
    "        {\n",
    "            'Id': f'Regular{i}_{j}',\n",
    "            'MessageBody': f'Hi regular queue {i}/{j}',\n",
    "            'MessageGroupId': random_id(),\n",
    "            'MessageDeduplicationId': f'{i}_{j}'\n",
    "        } for j in range(0, 10)\n",
    "    ])"
   ]
  },
  {
   "cell_type": "markdown",
   "metadata": {},
   "source": [
    "## Receive Messages\n",
    "Use a visibility timeout to ensure messages are regarded as 'in-flight', triggering the threshold for\n",
    "inflight messages percent for the test project."
   ]
  },
  {
   "cell_type": "code",
   "execution_count": null,
   "metadata": {},
   "outputs": [],
   "source": [
    "sqs.receive_message(QueueUrl=queue_url, VisibilityTimeout=10)"
   ]
  },
  {
   "cell_type": "code",
   "execution_count": null,
   "metadata": {},
   "outputs": [],
   "source": [
    "message_ids_regular = []\n",
    "sqs.receive_message(QueueUrl=queue_url, VisibilityTimeout=10)\n",
    "for _ in tqdm(range(0, 1201)):\n",
    "    msg_id = sqs.receive_message(QueueUrl=queue_url, VisibilityTimeout=1000)['Messages'][0]['MessageId']\n",
    "    message_ids_regular.append(msg_id)"
   ]
  },
  {
   "cell_type": "code",
   "execution_count": null,
   "metadata": {},
   "outputs": [],
   "source": [
    "sqs.receive_message(QueueUrl=fifo_queue_url, VisibilityTimeout=10)\n",
    "for _ in tqdm(range(0, 181)):\n",
    "    resp = sqs.receive_message(QueueUrl=fifo_queue_url, VisibilityTimeout=1000)\n",
    "    msg_id = resp['Messages'][0]['MessageId']\n",
    "    message_ids_fifo.append(msg_id)"
   ]
  },
  {
   "cell_type": "markdown",
   "metadata": {},
   "source": [
    "## Clean up queues"
   ]
  },
  {
   "cell_type": "code",
   "execution_count": null,
   "metadata": {},
   "outputs": [],
   "source": [
    "for url in tqdm([queue_url, fifo_queue_url]):\n",
    "    sqs.purge_queue(QueueUrl=url)"
   ]
  }
 ],
 "metadata": {
  "kernelspec": {
   "display_name": "Python 3",
   "language": "python",
   "name": "python3"
  },
  "language_info": {
   "codemirror_mode": {
    "name": "ipython",
    "version": 3
   },
   "file_extension": ".py",
   "mimetype": "text/x-python",
   "name": "python",
   "nbconvert_exporter": "python",
   "pygments_lexer": "ipython3",
   "version": "3.8.3"
  }
 },
 "nbformat": 4,
 "nbformat_minor": 4
}
